{
 "metadata": {
  "name": ""
 },
 "nbformat": 3,
 "nbformat_minor": 0,
 "worksheets": [
  {
   "cells": [
    {
     "cell_type": "heading",
     "level": 1,
     "metadata": {},
     "source": [
      "Most Voip Library"
     ]
    },
    {
     "cell_type": "heading",
     "level": 2,
     "metadata": {},
     "source": [
      "Introduction"
     ]
    },
    {
     "cell_type": "markdown",
     "metadata": {},
     "source": [
      "This document introduces a new and lightweight library for handling VOIP sessions."
     ]
    },
    {
     "cell_type": "heading",
     "level": 2,
     "metadata": {},
     "source": [
      "Example 1: Making a Call"
     ]
    },
    {
     "cell_type": "markdown",
     "metadata": {},
     "source": [
      "This first example shows how to make a call to an arbitrary destination using the Voip Library. To make a call, you have to perform the following 3 steps, each of them explained in the next sections.\n",
      "\n",
      "1. Initialize the Voip Library \n",
      "2. Register an account on a remote Sip Server\n",
      "3. Make a call to a remote destination\n",
      "4. Hangup the call\n",
      "\n",
      "Note that this example, to work, requires a Sip Server (e.g Asterisk) installed and running on a reachable PC.\n",
      "For getting instructions about the Asterisk configuration, click [here](asterisk_configuration.ipynb)"
     ]
    },
    {
     "cell_type": "heading",
     "level": 3,
     "metadata": {},
     "source": [
      "Step 1: Initialize the Library"
     ]
    },
    {
     "cell_type": "markdown",
     "metadata": {},
     "source": [
      "First of all, you have to import and instance the class *VoipLib*"
     ]
    },
    {
     "cell_type": "code",
     "collapsed": false,
     "input": [
      "# add the most.voip library root dir to the current python path...\n",
      "import sys\n",
      "sys.path.append(\"../src/\")\n",
      "\n",
      "# import the Voip Library\n",
      "from most.voip.api import VoipLib\n",
      "\n",
      "# instanziate the lib\n",
      "my_voip = VoipLib()"
     ],
     "language": "python",
     "metadata": {},
     "outputs": [],
     "prompt_number": 2
    },
    {
     "cell_type": "markdown",
     "metadata": {},
     "source": [
      "Now, you have to build a dictionary containing all parameters needed for the Lib initialization \n"
     ]
    },
    {
     "cell_type": "code",
     "collapsed": false,
     "input": [
      "# build a dictionary containing all parameters needed for the Lib initialization\n",
      "\n",
      "voip_params = {  u'username': u'ste',  # a name describing the user\n",
      "                 u'sip_server_address': u'156.148.33.240',  # the ip of the remote sip server (default port: 5060)\n",
      "                 u'sip_server_user': u'ste', # the username of the sip account\n",
      "                 u'sip_server_pwd': u'ste',  #  the password of the sip account\n",
      "                 u'sip_server_transport' :u'udp', # the transport type (default: tcp) \n",
      "                 u'log_level' : 1,  # the log level (greater values provide more informations)\n",
      "                 u'debug' : False  # enable/disable debugging messages\n",
      "                 }"
     ],
     "language": "python",
     "metadata": {},
     "outputs": [],
     "prompt_number": 3
    },
    {
     "cell_type": "markdown",
     "metadata": {},
     "source": [
      "At this point, you have to implement a callback method that will be called by the voip library to notify any relevant voip event. You can choose an arbitrary name for this method,  but it must contain the following 3 arguments: \n",
      "1. *voip_event_type* argument  indicating the type of the triggered event (VoipEventType.LIB_EVENT, VoipEventType.ACCOUNT_EVENT, VoipEventType.BUDDY_EVENT or VoipEventType.CALL_EVENT)  \n",
      "2. *voip_event* reporting the specific event (e.g VoipEvent.ACCOUNT_REGISTERED to notify an account registration)\n",
      "3. *params* a dictionary containing additional informations, depending on the specific triggered event \n",
      " call the *initialize* method passing the 2 parameters defined above"
     ]
    },
    {
     "cell_type": "code",
     "collapsed": false,
     "input": [
      "\n",
      "# define a method used for receive event notifications from the lib:\n",
      "\n",
      "def notify_events(voip_event_type, voip_event, params):\n",
      "    print \"Received Event Type:%s -> Event: %s Params: %s\" % (voip_event_type, voip_event, params)\n",
      "    "
     ],
     "language": "python",
     "metadata": {},
     "outputs": [],
     "prompt_number": 4
    },
    {
     "cell_type": "markdown",
     "metadata": {},
     "source": [
      "At this point, you are ready to initialize the library passing the dictionary and the callback method defined above:"
     ]
    },
    {
     "cell_type": "code",
     "collapsed": false,
     "input": [
      "# initialize the lib passing the dictionary and the callback method defined above:\n",
      "my_voip.init_lib(voip_params, notify_events)"
     ],
     "language": "python",
     "metadata": {},
     "outputs": [
      {
       "output_type": "stream",
       "stream": "stdout",
       "text": [
        "Received Event Type:EVENT_TYPE__LIB_EVENT -> Event: VOIP_EVENT__LIB_INITIALIZING Params: {'params': {u'username': u'ste', u'sip_server_transport': u'udp', u'log_level': 1, u'sip_server_user': u'ste', u'sip_server_pwd': u'ste', u'debug': False, u'sip_server_address': u'156.148.33.240'}, 'success': True}\n",
        "Received Event Type:EVENT_TYPE__LIB_EVENT -> Event: VOIP_EVENT__LIB_INITIALIZED Params: {'sip_server': '156.148.33.240', 'success': True}"
       ]
      },
      {
       "output_type": "stream",
       "stream": "stdout",
       "text": [
        "\n"
       ]
      },
      {
       "metadata": {},
       "output_type": "pyout",
       "prompt_number": 5,
       "text": [
        "True"
       ]
      }
     ],
     "prompt_number": 5
    },
    {
     "cell_type": "markdown",
     "metadata": {},
     "source": [
      "The example above assumes that you have a Sip Server (e.g, Asterisk) running on a pc reachable at the address 156.148.33.240.\n",
      "\n",
      "Note that, so far, no connection to the Sip Server has been established yet. The *init_lib* method returns a *True* value if the initialization request completes without errors, *False* otherwise. \n",
      "\n",
      "Finally, note that at the end of the inititialization process the method **notify_events** is called, containing all informations related to the outcome of the initialization process."
     ]
    },
    {
     "cell_type": "heading",
     "level": 3,
     "metadata": {},
     "source": [
      "Step 2: Registering the account on the Sip Server"
     ]
    },
    {
     "cell_type": "markdown",
     "metadata": {},
     "source": [
      "Now, you are ready to register the user to the sip server (in this example, we are registering a user called *ste* with the password *ste*. We assume that the Sip Server knows this user and is able to accept the registration request from it)."
     ]
    },
    {
     "cell_type": "code",
     "collapsed": false,
     "input": [
      "my_voip.register_account()"
     ],
     "language": "python",
     "metadata": {},
     "outputs": [
      {
       "output_type": "stream",
       "stream": "stdout",
       "text": [
        "Received Event Type:EVENT_TYPE__ACCOUNT_EVENT -> Event: VOIP_EVENT__ACCOUNT_REGISTERING Params: {'account_info': u'ste', 'Success': True}\n"
       ]
      },
      {
       "metadata": {},
       "output_type": "pyout",
       "prompt_number": 6,
       "text": [
        "True"
       ]
      }
     ],
     "prompt_number": 6
    },
    {
     "cell_type": "markdown",
     "metadata": {},
     "source": [
      "Also in this case, the library calls the method *notify_events* to notify the outcome of the registration process. In particular, this method is called as soon as a registration request is sent (with a VOIP_EVENT_ACCOUNT_REGISTERING event) and later, as soon as the registration is accepted by the remote Sip server (with a VOIP_EVENT_ACCOUNT_REGISTERED state) or refused (with a VOIP_EVENT_ACCOUNT_REGISTRATION_FAILED event)"
     ]
    },
    {
     "cell_type": "heading",
     "level": 3,
     "metadata": {},
     "source": [
      "Step 3: Making a call to a arbitrary extension"
     ]
    },
    {
     "cell_type": "markdown",
     "metadata": {},
     "source": [
      " In case of successfull registration, you can dial an extension (or call an arbitrary Sip User) in the following way:"
     ]
    },
    {
     "cell_type": "code",
     "collapsed": false,
     "input": [
      "my_extension = \"1234\"\n",
      "my_voip.make_call(my_extension)\n",
      "\n",
      "import time\n",
      "# wait until the call is active\n",
      "while(True):\n",
      "    time.sleep(1)\n",
      "\n"
     ],
     "language": "python",
     "metadata": {},
     "outputs": [],
     "prompt_number": "*"
    },
    {
     "cell_type": "markdown",
     "metadata": {},
     "source": [
      "Note that the notify_events method is called when the call is established (with the state VOIP_STATE__CALL_ACTIVE)"
     ]
    },
    {
     "cell_type": "heading",
     "level": 3,
     "metadata": {},
     "source": [
      "Step 4: Hangup the active call"
     ]
    },
    {
     "cell_type": "markdown",
     "metadata": {},
     "source": [
      "To hangup the call you have just to call the method *hangup_call*:"
     ]
    },
    {
     "cell_type": "code",
     "collapsed": false,
     "input": [
      "# ends the current call\n",
      "my_voip.hangup_call()"
     ],
     "language": "python",
     "metadata": {},
     "outputs": [
      {
       "metadata": {},
       "output_type": "pyout",
       "prompt_number": 9,
       "text": [
        "True"
       ]
      }
     ],
     "prompt_number": 9
    },
    {
     "cell_type": "markdown",
     "metadata": {},
     "source": [
      "Note that,  when the user hangs up the call , the callback method is called again with the event VOIP_EVENT_CALL_HANGUP)\n"
     ]
    },
    {
     "cell_type": "code",
     "collapsed": false,
     "input": [],
     "language": "python",
     "metadata": {},
     "outputs": []
    }
   ],
   "metadata": {}
  }
 ]
}