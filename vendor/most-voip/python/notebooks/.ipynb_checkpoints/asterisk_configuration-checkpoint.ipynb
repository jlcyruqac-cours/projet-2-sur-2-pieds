{
 "metadata": {
  "name": ""
 },
 "nbformat": 3,
 "nbformat_minor": 0,
 "worksheets": [
  {
   "cells": [
    {
     "cell_type": "heading",
     "level": 1,
     "metadata": {},
     "source": [
      "Asterisk Configuration Guide for Most Voip Examples"
     ]
    },
    {
     "cell_type": "markdown",
     "metadata": {},
     "source": [
      "All examples describing the Most Voip Library features requires,  to work properly, a Sip Server running on a reachable PC. In this guide we show how to configure the [Asterisk Sip Server](http://www.asterisk.org/ \"Asterisk\")\n"
     ]
    },
    {
     "cell_type": "heading",
     "level": 3,
     "metadata": {},
     "source": [
      "How to add Sip Users to Asterisk"
     ]
    },
    {
     "cell_type": "markdown",
     "metadata": {},
     "source": [
      "Open the **sip.conf** configuration file (generally located in the folder /etc/asterisk) set to ** yes ** the following options in the ** [general] ** section:"
     ]
    },
    {
     "cell_type": "raw",
     "metadata": {},
     "source": [
      "[general]\n",
      "callevents=yes \n",
      "notifyhold = yes\n",
      "callcounter=yes"
     ]
    },
    {
     "cell_type": "markdown",
     "metadata": {},
     "source": [
      "Also, add these sections at the end of the ** sip.conf **:"
     ]
    },
    {
     "cell_type": "raw",
     "metadata": {},
     "source": [
      "[ste]\n",
      "type=friend\n",
      "secret=ste\n",
      "host=dynamic\n",
      "context=local_test\n",
      "\n",
      "[steand]\n",
      "type=friend\n",
      "secret=steand\n",
      "host=dynamic\n",
      "context=local_test"
     ]
    },
    {
     "cell_type": "heading",
     "level": 3,
     "metadata": {},
     "source": [
      "How to add extensions to dial in Asterisk"
     ]
    },
    {
     "cell_type": "markdown",
     "metadata": {},
     "source": [
      "Open the **extensions.conf** configuration file (generally located in the folder /etc/asterisk) and add these lines at the end:"
     ]
    },
    {
     "cell_type": "raw",
     "metadata": {},
     "source": [
      "[local_test]\n",
      "exten => 1234,1,Answer ; answer the call\n",
      "exten => 1234,2,Playback(tt-weasels) ; play an audio file that simulates the voice of the called user\n",
      "exten => 1234,3,Hangup ; hang up the call\n",
      "\n",
      "exten => ste,1,Set(VOLUME(RX)=10) ; set the RX volume \n",
      "exten => ste,2,Set(VOLUME(TX)=10) ; set the RX volume \n",
      "exten => ste,hint,SIP/ste; hint  'ste' \n",
      "exten => ste,3,Dial(SIP/ste) ; call the user ste' \n",
      "\n",
      "\n",
      "exten => steand,1,Set(VOLUME(RX)=10) ; set the RX volume  \n",
      "exten => steand,2,Set(VOLUME(TX)=10) ; set the RX volume  \n",
      "exten => steand,hint,SIP/ste; hint  'steand' used for presence notification \n",
      "exten => steand,3,Dial(SIP/steand) call the user 'steand' used for presence notification"
     ]
    },
    {
     "cell_type": "heading",
     "level": 3,
     "metadata": {},
     "source": [
      "How to run Asterisk"
     ]
    },
    {
     "cell_type": "markdown",
     "metadata": {},
     "source": [
      "Open a shell and type the following command:"
     ]
    },
    {
     "cell_type": "markdown",
     "metadata": {},
     "source": [
      "**sudo service asterisk restart**"
     ]
    },
    {
     "cell_type": "heading",
     "level": 3,
     "metadata": {},
     "source": [
      "How to open the Asterisk Command Line Interface (CLI) Shell "
     ]
    },
    {
     "cell_type": "markdown",
     "metadata": {},
     "source": [
      "**sudo asterisk -r**"
     ]
    },
    {
     "cell_type": "heading",
     "level": 3,
     "metadata": {},
     "source": [
      "How to look for sip users current state:"
     ]
    },
    {
     "cell_type": "markdown",
     "metadata": {},
     "source": [
      "**sip show peers**"
     ]
    },
    {
     "cell_type": "heading",
     "level": 3,
     "metadata": {},
     "source": [
      "How to reload the dialplan (useful when you add and/or modify a new extension):"
     ]
    },
    {
     "cell_type": "markdown",
     "metadata": {},
     "source": [
      "**dialplan reload**"
     ]
    },
    {
     "cell_type": "heading",
     "level": 3,
     "metadata": {},
     "source": [
      "How to originate a call:"
     ]
    },
    {
     "cell_type": "markdown",
     "metadata": {},
     "source": [
      "This following command originates a call from the sip server to the user 'ste'. Obviously, it assumes that you have configured the Asterisk Server so that the user 'ste' is a known sip user. To do it , you have to configure the sip configuration file, called **sip.conf** (in Linux platforms, it is generally located in the folder /etc/asterisk)."
     ]
    },
    {
     "cell_type": "markdown",
     "metadata": {},
     "source": [
      "**originate SIP/ste extension**"
     ]
    }
   ],
   "metadata": {}
  }
 ]
}